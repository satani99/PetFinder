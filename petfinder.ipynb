{
 "cells": [
  {
   "cell_type": "code",
   "execution_count": 1,
   "id": "fbcee724",
   "metadata": {
    "execution": {
     "iopub.execute_input": "2021-12-23T03:55:31.192910Z",
     "iopub.status.busy": "2021-12-23T03:55:31.191437Z",
     "iopub.status.idle": "2021-12-23T03:55:32.046417Z",
     "shell.execute_reply": "2021-12-23T03:55:32.045817Z",
     "shell.execute_reply.started": "2021-12-23T03:36:30.301023Z"
    },
    "papermill": {
     "duration": 0.874312,
     "end_time": "2021-12-23T03:55:32.046573",
     "exception": false,
     "start_time": "2021-12-23T03:55:31.172261",
     "status": "completed"
    },
    "tags": []
   },
   "outputs": [],
   "source": [
    "import pandas as pd\n",
    "import numpy as np\n",
    "from xgboost import XGBRegressor"
   ]
  },
  {
   "cell_type": "code",
   "execution_count": 2,
   "id": "66cdecda",
   "metadata": {
    "execution": {
     "iopub.execute_input": "2021-12-23T03:55:32.081868Z",
     "iopub.status.busy": "2021-12-23T03:55:32.081257Z",
     "iopub.status.idle": "2021-12-23T03:55:32.130140Z",
     "shell.execute_reply": "2021-12-23T03:55:32.129403Z",
     "shell.execute_reply.started": "2021-12-23T03:36:31.896247Z"
    },
    "papermill": {
     "duration": 0.066558,
     "end_time": "2021-12-23T03:55:32.130308",
     "exception": false,
     "start_time": "2021-12-23T03:55:32.063750",
     "status": "completed"
    },
    "tags": []
   },
   "outputs": [],
   "source": [
    "train = pd.read_csv('../input/petfinder-pawpularity-score/train.csv')\n",
    "test = pd.read_csv('../input/petfinder-pawpularity-score/test.csv')"
   ]
  },
  {
   "cell_type": "code",
   "execution_count": 3,
   "id": "63e02ea3",
   "metadata": {
    "execution": {
     "iopub.execute_input": "2021-12-23T03:55:32.189138Z",
     "iopub.status.busy": "2021-12-23T03:55:32.188303Z",
     "iopub.status.idle": "2021-12-23T03:55:32.212769Z",
     "shell.execute_reply": "2021-12-23T03:55:32.213155Z",
     "shell.execute_reply.started": "2021-12-23T03:36:32.487694Z"
    },
    "papermill": {
     "duration": 0.056967,
     "end_time": "2021-12-23T03:55:32.213291",
     "exception": false,
     "start_time": "2021-12-23T03:55:32.156324",
     "status": "completed"
    },
    "tags": []
   },
   "outputs": [
    {
     "data": {
      "text/html": [
       "<div>\n",
       "<style scoped>\n",
       "    .dataframe tbody tr th:only-of-type {\n",
       "        vertical-align: middle;\n",
       "    }\n",
       "\n",
       "    .dataframe tbody tr th {\n",
       "        vertical-align: top;\n",
       "    }\n",
       "\n",
       "    .dataframe thead th {\n",
       "        text-align: right;\n",
       "    }\n",
       "</style>\n",
       "<table border=\"1\" class=\"dataframe\">\n",
       "  <thead>\n",
       "    <tr style=\"text-align: right;\">\n",
       "      <th></th>\n",
       "      <th>Id</th>\n",
       "      <th>Subject Focus</th>\n",
       "      <th>Eyes</th>\n",
       "      <th>Face</th>\n",
       "      <th>Near</th>\n",
       "      <th>Action</th>\n",
       "      <th>Accessory</th>\n",
       "      <th>Group</th>\n",
       "      <th>Collage</th>\n",
       "      <th>Human</th>\n",
       "      <th>Occlusion</th>\n",
       "      <th>Info</th>\n",
       "      <th>Blur</th>\n",
       "      <th>Pawpularity</th>\n",
       "    </tr>\n",
       "  </thead>\n",
       "  <tbody>\n",
       "    <tr>\n",
       "      <th>0</th>\n",
       "      <td>0007de18844b0dbbb5e1f607da0606e0</td>\n",
       "      <td>0</td>\n",
       "      <td>1</td>\n",
       "      <td>1</td>\n",
       "      <td>1</td>\n",
       "      <td>0</td>\n",
       "      <td>0</td>\n",
       "      <td>1</td>\n",
       "      <td>0</td>\n",
       "      <td>0</td>\n",
       "      <td>0</td>\n",
       "      <td>0</td>\n",
       "      <td>0</td>\n",
       "      <td>63</td>\n",
       "    </tr>\n",
       "    <tr>\n",
       "      <th>1</th>\n",
       "      <td>0009c66b9439883ba2750fb825e1d7db</td>\n",
       "      <td>0</td>\n",
       "      <td>1</td>\n",
       "      <td>1</td>\n",
       "      <td>0</td>\n",
       "      <td>0</td>\n",
       "      <td>0</td>\n",
       "      <td>0</td>\n",
       "      <td>0</td>\n",
       "      <td>0</td>\n",
       "      <td>0</td>\n",
       "      <td>0</td>\n",
       "      <td>0</td>\n",
       "      <td>42</td>\n",
       "    </tr>\n",
       "    <tr>\n",
       "      <th>2</th>\n",
       "      <td>0013fd999caf9a3efe1352ca1b0d937e</td>\n",
       "      <td>0</td>\n",
       "      <td>1</td>\n",
       "      <td>1</td>\n",
       "      <td>1</td>\n",
       "      <td>0</td>\n",
       "      <td>0</td>\n",
       "      <td>0</td>\n",
       "      <td>0</td>\n",
       "      <td>1</td>\n",
       "      <td>1</td>\n",
       "      <td>0</td>\n",
       "      <td>0</td>\n",
       "      <td>28</td>\n",
       "    </tr>\n",
       "    <tr>\n",
       "      <th>3</th>\n",
       "      <td>0018df346ac9c1d8413cfcc888ca8246</td>\n",
       "      <td>0</td>\n",
       "      <td>1</td>\n",
       "      <td>1</td>\n",
       "      <td>1</td>\n",
       "      <td>0</td>\n",
       "      <td>0</td>\n",
       "      <td>0</td>\n",
       "      <td>0</td>\n",
       "      <td>0</td>\n",
       "      <td>0</td>\n",
       "      <td>0</td>\n",
       "      <td>0</td>\n",
       "      <td>15</td>\n",
       "    </tr>\n",
       "    <tr>\n",
       "      <th>4</th>\n",
       "      <td>001dc955e10590d3ca4673f034feeef2</td>\n",
       "      <td>0</td>\n",
       "      <td>0</td>\n",
       "      <td>0</td>\n",
       "      <td>1</td>\n",
       "      <td>0</td>\n",
       "      <td>0</td>\n",
       "      <td>1</td>\n",
       "      <td>0</td>\n",
       "      <td>0</td>\n",
       "      <td>0</td>\n",
       "      <td>0</td>\n",
       "      <td>0</td>\n",
       "      <td>72</td>\n",
       "    </tr>\n",
       "  </tbody>\n",
       "</table>\n",
       "</div>"
      ],
      "text/plain": [
       "                                 Id  Subject Focus  Eyes  Face  Near  Action  \\\n",
       "0  0007de18844b0dbbb5e1f607da0606e0              0     1     1     1       0   \n",
       "1  0009c66b9439883ba2750fb825e1d7db              0     1     1     0       0   \n",
       "2  0013fd999caf9a3efe1352ca1b0d937e              0     1     1     1       0   \n",
       "3  0018df346ac9c1d8413cfcc888ca8246              0     1     1     1       0   \n",
       "4  001dc955e10590d3ca4673f034feeef2              0     0     0     1       0   \n",
       "\n",
       "   Accessory  Group  Collage  Human  Occlusion  Info  Blur  Pawpularity  \n",
       "0          0      1        0      0          0     0     0           63  \n",
       "1          0      0        0      0          0     0     0           42  \n",
       "2          0      0        0      1          1     0     0           28  \n",
       "3          0      0        0      0          0     0     0           15  \n",
       "4          0      1        0      0          0     0     0           72  "
      ]
     },
     "execution_count": 3,
     "metadata": {},
     "output_type": "execute_result"
    }
   ],
   "source": [
    "train.head()"
   ]
  },
  {
   "cell_type": "code",
   "execution_count": 4,
   "id": "e5bc099a",
   "metadata": {
    "execution": {
     "iopub.execute_input": "2021-12-23T03:55:32.254605Z",
     "iopub.status.busy": "2021-12-23T03:55:32.245268Z",
     "iopub.status.idle": "2021-12-23T03:55:32.260497Z",
     "shell.execute_reply": "2021-12-23T03:55:32.259461Z",
     "shell.execute_reply.started": "2021-12-23T03:36:35.018527Z"
    },
    "papermill": {
     "duration": 0.032822,
     "end_time": "2021-12-23T03:55:32.260606",
     "exception": false,
     "start_time": "2021-12-23T03:55:32.227784",
     "status": "completed"
    },
    "tags": []
   },
   "outputs": [
    {
     "data": {
      "text/html": [
       "<div>\n",
       "<style scoped>\n",
       "    .dataframe tbody tr th:only-of-type {\n",
       "        vertical-align: middle;\n",
       "    }\n",
       "\n",
       "    .dataframe tbody tr th {\n",
       "        vertical-align: top;\n",
       "    }\n",
       "\n",
       "    .dataframe thead th {\n",
       "        text-align: right;\n",
       "    }\n",
       "</style>\n",
       "<table border=\"1\" class=\"dataframe\">\n",
       "  <thead>\n",
       "    <tr style=\"text-align: right;\">\n",
       "      <th></th>\n",
       "      <th>Id</th>\n",
       "      <th>Subject Focus</th>\n",
       "      <th>Eyes</th>\n",
       "      <th>Face</th>\n",
       "      <th>Near</th>\n",
       "      <th>Action</th>\n",
       "      <th>Accessory</th>\n",
       "      <th>Group</th>\n",
       "      <th>Collage</th>\n",
       "      <th>Human</th>\n",
       "      <th>Occlusion</th>\n",
       "      <th>Info</th>\n",
       "      <th>Blur</th>\n",
       "    </tr>\n",
       "  </thead>\n",
       "  <tbody>\n",
       "    <tr>\n",
       "      <th>0</th>\n",
       "      <td>4128bae22183829d2b5fea10effdb0c3</td>\n",
       "      <td>1</td>\n",
       "      <td>0</td>\n",
       "      <td>1</td>\n",
       "      <td>0</td>\n",
       "      <td>0</td>\n",
       "      <td>1</td>\n",
       "      <td>1</td>\n",
       "      <td>0</td>\n",
       "      <td>0</td>\n",
       "      <td>1</td>\n",
       "      <td>0</td>\n",
       "      <td>1</td>\n",
       "    </tr>\n",
       "    <tr>\n",
       "      <th>1</th>\n",
       "      <td>43a2262d7738e3d420d453815151079e</td>\n",
       "      <td>0</td>\n",
       "      <td>1</td>\n",
       "      <td>0</td>\n",
       "      <td>0</td>\n",
       "      <td>0</td>\n",
       "      <td>0</td>\n",
       "      <td>1</td>\n",
       "      <td>1</td>\n",
       "      <td>0</td>\n",
       "      <td>0</td>\n",
       "      <td>0</td>\n",
       "      <td>0</td>\n",
       "    </tr>\n",
       "    <tr>\n",
       "      <th>2</th>\n",
       "      <td>4e429cead1848a298432a0acad014c9d</td>\n",
       "      <td>0</td>\n",
       "      <td>0</td>\n",
       "      <td>0</td>\n",
       "      <td>1</td>\n",
       "      <td>0</td>\n",
       "      <td>1</td>\n",
       "      <td>1</td>\n",
       "      <td>1</td>\n",
       "      <td>0</td>\n",
       "      <td>1</td>\n",
       "      <td>1</td>\n",
       "      <td>1</td>\n",
       "    </tr>\n",
       "    <tr>\n",
       "      <th>3</th>\n",
       "      <td>80bc3ccafcc51b66303c2c263aa38486</td>\n",
       "      <td>1</td>\n",
       "      <td>0</td>\n",
       "      <td>1</td>\n",
       "      <td>0</td>\n",
       "      <td>0</td>\n",
       "      <td>0</td>\n",
       "      <td>0</td>\n",
       "      <td>0</td>\n",
       "      <td>0</td>\n",
       "      <td>0</td>\n",
       "      <td>1</td>\n",
       "      <td>0</td>\n",
       "    </tr>\n",
       "    <tr>\n",
       "      <th>4</th>\n",
       "      <td>8f49844c382931444e68dffbe20228f4</td>\n",
       "      <td>1</td>\n",
       "      <td>1</td>\n",
       "      <td>1</td>\n",
       "      <td>0</td>\n",
       "      <td>1</td>\n",
       "      <td>1</td>\n",
       "      <td>0</td>\n",
       "      <td>1</td>\n",
       "      <td>0</td>\n",
       "      <td>1</td>\n",
       "      <td>1</td>\n",
       "      <td>0</td>\n",
       "    </tr>\n",
       "  </tbody>\n",
       "</table>\n",
       "</div>"
      ],
      "text/plain": [
       "                                 Id  Subject Focus  Eyes  Face  Near  Action  \\\n",
       "0  4128bae22183829d2b5fea10effdb0c3              1     0     1     0       0   \n",
       "1  43a2262d7738e3d420d453815151079e              0     1     0     0       0   \n",
       "2  4e429cead1848a298432a0acad014c9d              0     0     0     1       0   \n",
       "3  80bc3ccafcc51b66303c2c263aa38486              1     0     1     0       0   \n",
       "4  8f49844c382931444e68dffbe20228f4              1     1     1     0       1   \n",
       "\n",
       "   Accessory  Group  Collage  Human  Occlusion  Info  Blur  \n",
       "0          1      1        0      0          1     0     1  \n",
       "1          0      1        1      0          0     0     0  \n",
       "2          1      1        1      0          1     1     1  \n",
       "3          0      0        0      0          0     1     0  \n",
       "4          1      0        1      0          1     1     0  "
      ]
     },
     "execution_count": 4,
     "metadata": {},
     "output_type": "execute_result"
    }
   ],
   "source": [
    "test.head()"
   ]
  },
  {
   "cell_type": "code",
   "execution_count": 5,
   "id": "ff73c9db",
   "metadata": {
    "execution": {
     "iopub.execute_input": "2021-12-23T03:55:32.301864Z",
     "iopub.status.busy": "2021-12-23T03:55:32.300999Z",
     "iopub.status.idle": "2021-12-23T03:55:32.305125Z",
     "shell.execute_reply": "2021-12-23T03:55:32.305559Z",
     "shell.execute_reply.started": "2021-12-23T03:36:35.434732Z"
    },
    "papermill": {
     "duration": 0.029361,
     "end_time": "2021-12-23T03:55:32.305678",
     "exception": false,
     "start_time": "2021-12-23T03:55:32.276317",
     "status": "completed"
    },
    "tags": []
   },
   "outputs": [
    {
     "data": {
      "text/plain": [
       "<bound method DataFrame.info of                                     Id  Subject Focus  Eyes  Face  Near  \\\n",
       "0     0007de18844b0dbbb5e1f607da0606e0              0     1     1     1   \n",
       "1     0009c66b9439883ba2750fb825e1d7db              0     1     1     0   \n",
       "2     0013fd999caf9a3efe1352ca1b0d937e              0     1     1     1   \n",
       "3     0018df346ac9c1d8413cfcc888ca8246              0     1     1     1   \n",
       "4     001dc955e10590d3ca4673f034feeef2              0     0     0     1   \n",
       "...                                ...            ...   ...   ...   ...   \n",
       "9907  ffbfa0383c34dc513c95560d6e1fdb57              0     0     0     1   \n",
       "9908  ffcc8532d76436fc79e50eb2e5238e45              0     1     1     1   \n",
       "9909  ffdf2e8673a1da6fb80342fa3b119a20              0     1     1     1   \n",
       "9910  fff19e2ce11718548fa1c5d039a5192a              0     1     1     1   \n",
       "9911  fff8e47c766799c9e12f3cb3d66ad228              0     1     1     1   \n",
       "\n",
       "      Action  Accessory  Group  Collage  Human  Occlusion  Info  Blur  \\\n",
       "0          0          0      1        0      0          0     0     0   \n",
       "1          0          0      0        0      0          0     0     0   \n",
       "2          0          0      0        0      1          1     0     0   \n",
       "3          0          0      0        0      0          0     0     0   \n",
       "4          0          0      1        0      0          0     0     0   \n",
       "...      ...        ...    ...      ...    ...        ...   ...   ...   \n",
       "9907       0          0      0        0      0          0     0     1   \n",
       "9908       0          0      0        0      0          0     0     0   \n",
       "9909       0          0      0        0      1          1     0     0   \n",
       "9910       0          0      0        0      1          0     0     0   \n",
       "9911       0          0      0        0      0          0     0     0   \n",
       "\n",
       "      Pawpularity  \n",
       "0              63  \n",
       "1              42  \n",
       "2              28  \n",
       "3              15  \n",
       "4              72  \n",
       "...           ...  \n",
       "9907           15  \n",
       "9908           70  \n",
       "9909           20  \n",
       "9910           20  \n",
       "9911           30  \n",
       "\n",
       "[9912 rows x 14 columns]>"
      ]
     },
     "execution_count": 5,
     "metadata": {},
     "output_type": "execute_result"
    }
   ],
   "source": [
    "train.info"
   ]
  },
  {
   "cell_type": "code",
   "execution_count": 6,
   "id": "6c9325e7",
   "metadata": {
    "execution": {
     "iopub.execute_input": "2021-12-23T03:55:32.344198Z",
     "iopub.status.busy": "2021-12-23T03:55:32.343370Z",
     "iopub.status.idle": "2021-12-23T03:55:32.346146Z",
     "shell.execute_reply": "2021-12-23T03:55:32.346607Z",
     "shell.execute_reply.started": "2021-12-23T03:36:39.408648Z"
    },
    "papermill": {
     "duration": 0.026352,
     "end_time": "2021-12-23T03:55:32.346733",
     "exception": false,
     "start_time": "2021-12-23T03:55:32.320381",
     "status": "completed"
    },
    "tags": []
   },
   "outputs": [],
   "source": [
    "train.drop('Id', axis=1, inplace=True)\n",
    "test.drop('Id', axis=1, inplace=True)"
   ]
  },
  {
   "cell_type": "code",
   "execution_count": 7,
   "id": "05fac8c4",
   "metadata": {
    "execution": {
     "iopub.execute_input": "2021-12-23T03:55:32.386653Z",
     "iopub.status.busy": "2021-12-23T03:55:32.385991Z",
     "iopub.status.idle": "2021-12-23T03:55:32.388764Z",
     "shell.execute_reply": "2021-12-23T03:55:32.389169Z",
     "shell.execute_reply.started": "2021-12-23T03:36:39.757678Z"
    },
    "papermill": {
     "duration": 0.027393,
     "end_time": "2021-12-23T03:55:32.389282",
     "exception": false,
     "start_time": "2021-12-23T03:55:32.361889",
     "status": "completed"
    },
    "tags": []
   },
   "outputs": [
    {
     "data": {
      "text/html": [
       "<div>\n",
       "<style scoped>\n",
       "    .dataframe tbody tr th:only-of-type {\n",
       "        vertical-align: middle;\n",
       "    }\n",
       "\n",
       "    .dataframe tbody tr th {\n",
       "        vertical-align: top;\n",
       "    }\n",
       "\n",
       "    .dataframe thead th {\n",
       "        text-align: right;\n",
       "    }\n",
       "</style>\n",
       "<table border=\"1\" class=\"dataframe\">\n",
       "  <thead>\n",
       "    <tr style=\"text-align: right;\">\n",
       "      <th></th>\n",
       "      <th>Subject Focus</th>\n",
       "      <th>Eyes</th>\n",
       "      <th>Face</th>\n",
       "      <th>Near</th>\n",
       "      <th>Action</th>\n",
       "      <th>Accessory</th>\n",
       "      <th>Group</th>\n",
       "      <th>Collage</th>\n",
       "      <th>Human</th>\n",
       "      <th>Occlusion</th>\n",
       "      <th>Info</th>\n",
       "      <th>Blur</th>\n",
       "      <th>Pawpularity</th>\n",
       "    </tr>\n",
       "  </thead>\n",
       "  <tbody>\n",
       "    <tr>\n",
       "      <th>0</th>\n",
       "      <td>0</td>\n",
       "      <td>1</td>\n",
       "      <td>1</td>\n",
       "      <td>1</td>\n",
       "      <td>0</td>\n",
       "      <td>0</td>\n",
       "      <td>1</td>\n",
       "      <td>0</td>\n",
       "      <td>0</td>\n",
       "      <td>0</td>\n",
       "      <td>0</td>\n",
       "      <td>0</td>\n",
       "      <td>63</td>\n",
       "    </tr>\n",
       "    <tr>\n",
       "      <th>1</th>\n",
       "      <td>0</td>\n",
       "      <td>1</td>\n",
       "      <td>1</td>\n",
       "      <td>0</td>\n",
       "      <td>0</td>\n",
       "      <td>0</td>\n",
       "      <td>0</td>\n",
       "      <td>0</td>\n",
       "      <td>0</td>\n",
       "      <td>0</td>\n",
       "      <td>0</td>\n",
       "      <td>0</td>\n",
       "      <td>42</td>\n",
       "    </tr>\n",
       "    <tr>\n",
       "      <th>2</th>\n",
       "      <td>0</td>\n",
       "      <td>1</td>\n",
       "      <td>1</td>\n",
       "      <td>1</td>\n",
       "      <td>0</td>\n",
       "      <td>0</td>\n",
       "      <td>0</td>\n",
       "      <td>0</td>\n",
       "      <td>1</td>\n",
       "      <td>1</td>\n",
       "      <td>0</td>\n",
       "      <td>0</td>\n",
       "      <td>28</td>\n",
       "    </tr>\n",
       "    <tr>\n",
       "      <th>3</th>\n",
       "      <td>0</td>\n",
       "      <td>1</td>\n",
       "      <td>1</td>\n",
       "      <td>1</td>\n",
       "      <td>0</td>\n",
       "      <td>0</td>\n",
       "      <td>0</td>\n",
       "      <td>0</td>\n",
       "      <td>0</td>\n",
       "      <td>0</td>\n",
       "      <td>0</td>\n",
       "      <td>0</td>\n",
       "      <td>15</td>\n",
       "    </tr>\n",
       "    <tr>\n",
       "      <th>4</th>\n",
       "      <td>0</td>\n",
       "      <td>0</td>\n",
       "      <td>0</td>\n",
       "      <td>1</td>\n",
       "      <td>0</td>\n",
       "      <td>0</td>\n",
       "      <td>1</td>\n",
       "      <td>0</td>\n",
       "      <td>0</td>\n",
       "      <td>0</td>\n",
       "      <td>0</td>\n",
       "      <td>0</td>\n",
       "      <td>72</td>\n",
       "    </tr>\n",
       "  </tbody>\n",
       "</table>\n",
       "</div>"
      ],
      "text/plain": [
       "   Subject Focus  Eyes  Face  Near  Action  Accessory  Group  Collage  Human  \\\n",
       "0              0     1     1     1       0          0      1        0      0   \n",
       "1              0     1     1     0       0          0      0        0      0   \n",
       "2              0     1     1     1       0          0      0        0      1   \n",
       "3              0     1     1     1       0          0      0        0      0   \n",
       "4              0     0     0     1       0          0      1        0      0   \n",
       "\n",
       "   Occlusion  Info  Blur  Pawpularity  \n",
       "0          0     0     0           63  \n",
       "1          0     0     0           42  \n",
       "2          1     0     0           28  \n",
       "3          0     0     0           15  \n",
       "4          0     0     0           72  "
      ]
     },
     "execution_count": 7,
     "metadata": {},
     "output_type": "execute_result"
    }
   ],
   "source": [
    "train.head()"
   ]
  },
  {
   "cell_type": "code",
   "execution_count": 8,
   "id": "ce0fe9c6",
   "metadata": {
    "execution": {
     "iopub.execute_input": "2021-12-23T03:55:32.427439Z",
     "iopub.status.busy": "2021-12-23T03:55:32.426668Z",
     "iopub.status.idle": "2021-12-23T03:55:32.429139Z",
     "shell.execute_reply": "2021-12-23T03:55:32.428699Z",
     "shell.execute_reply.started": "2021-12-23T03:36:40.150660Z"
    },
    "papermill": {
     "duration": 0.024717,
     "end_time": "2021-12-23T03:55:32.429243",
     "exception": false,
     "start_time": "2021-12-23T03:55:32.404526",
     "status": "completed"
    },
    "tags": []
   },
   "outputs": [],
   "source": [
    "y, X = train['Pawpularity'], train.drop('Pawpularity', axis=1)"
   ]
  },
  {
   "cell_type": "code",
   "execution_count": 9,
   "id": "ce9a34c3",
   "metadata": {
    "execution": {
     "iopub.execute_input": "2021-12-23T03:55:32.465380Z",
     "iopub.status.busy": "2021-12-23T03:55:32.464173Z",
     "iopub.status.idle": "2021-12-23T03:55:32.467209Z",
     "shell.execute_reply": "2021-12-23T03:55:32.467632Z",
     "shell.execute_reply.started": "2021-12-23T03:36:40.534824Z"
    },
    "papermill": {
     "duration": 0.023112,
     "end_time": "2021-12-23T03:55:32.467750",
     "exception": false,
     "start_time": "2021-12-23T03:55:32.444638",
     "status": "completed"
    },
    "tags": []
   },
   "outputs": [
    {
     "data": {
      "text/plain": [
       "(9912, 12)"
      ]
     },
     "execution_count": 9,
     "metadata": {},
     "output_type": "execute_result"
    }
   ],
   "source": [
    "X.shape"
   ]
  },
  {
   "cell_type": "code",
   "execution_count": 10,
   "id": "1ca0ea2f",
   "metadata": {
    "execution": {
     "iopub.execute_input": "2021-12-23T03:55:32.503662Z",
     "iopub.status.busy": "2021-12-23T03:55:32.502977Z",
     "iopub.status.idle": "2021-12-23T03:55:32.505959Z",
     "shell.execute_reply": "2021-12-23T03:55:32.506403Z",
     "shell.execute_reply.started": "2021-12-23T03:36:44.097321Z"
    },
    "papermill": {
     "duration": 0.023556,
     "end_time": "2021-12-23T03:55:32.506536",
     "exception": false,
     "start_time": "2021-12-23T03:55:32.482980",
     "status": "completed"
    },
    "tags": []
   },
   "outputs": [
    {
     "data": {
      "text/plain": [
       "(8, 12)"
      ]
     },
     "execution_count": 10,
     "metadata": {},
     "output_type": "execute_result"
    }
   ],
   "source": [
    "test.shape"
   ]
  },
  {
   "cell_type": "code",
   "execution_count": 11,
   "id": "9e700546",
   "metadata": {
    "execution": {
     "iopub.execute_input": "2021-12-23T03:55:32.541259Z",
     "iopub.status.busy": "2021-12-23T03:55:32.540603Z",
     "iopub.status.idle": "2021-12-23T03:55:32.549557Z",
     "shell.execute_reply": "2021-12-23T03:55:32.549107Z",
     "shell.execute_reply.started": "2021-12-23T03:54:49.267210Z"
    },
    "papermill": {
     "duration": 0.027491,
     "end_time": "2021-12-23T03:55:32.549662",
     "exception": false,
     "start_time": "2021-12-23T03:55:32.522171",
     "status": "completed"
    },
    "tags": []
   },
   "outputs": [],
   "source": [
    "from sklearn.neural_network import MLPRegressor\n",
    "model = MLPRegressor()"
   ]
  },
  {
   "cell_type": "code",
   "execution_count": 12,
   "id": "4264cb1b",
   "metadata": {
    "execution": {
     "iopub.execute_input": "2021-12-23T03:55:32.587818Z",
     "iopub.status.busy": "2021-12-23T03:55:32.586451Z",
     "iopub.status.idle": "2021-12-23T03:55:46.255920Z",
     "shell.execute_reply": "2021-12-23T03:55:46.256697Z",
     "shell.execute_reply.started": "2021-12-23T03:54:51.576480Z"
    },
    "papermill": {
     "duration": 13.691619,
     "end_time": "2021-12-23T03:55:46.256923",
     "exception": false,
     "start_time": "2021-12-23T03:55:32.565304",
     "status": "completed"
    },
    "tags": []
   },
   "outputs": [
    {
     "name": "stderr",
     "output_type": "stream",
     "text": [
      "/opt/conda/lib/python3.7/site-packages/sklearn/neural_network/_multilayer_perceptron.py:585: ConvergenceWarning: Stochastic Optimizer: Maximum iterations (200) reached and the optimization hasn't converged yet.\n",
      "  % self.max_iter, ConvergenceWarning)\n"
     ]
    },
    {
     "data": {
      "text/plain": [
       "MLPRegressor()"
      ]
     },
     "execution_count": 12,
     "metadata": {},
     "output_type": "execute_result"
    }
   ],
   "source": [
    "model.fit(X, y)"
   ]
  },
  {
   "cell_type": "code",
   "execution_count": 13,
   "id": "a988d31a",
   "metadata": {
    "execution": {
     "iopub.execute_input": "2021-12-23T03:55:46.341411Z",
     "iopub.status.busy": "2021-12-23T03:55:46.340502Z",
     "iopub.status.idle": "2021-12-23T03:55:46.343156Z",
     "shell.execute_reply": "2021-12-23T03:55:46.343968Z",
     "shell.execute_reply.started": "2021-12-23T03:55:08.926551Z"
    },
    "papermill": {
     "duration": 0.041328,
     "end_time": "2021-12-23T03:55:46.344183",
     "exception": false,
     "start_time": "2021-12-23T03:55:46.302855",
     "status": "completed"
    },
    "tags": []
   },
   "outputs": [],
   "source": [
    "prediction = model.predict(test)"
   ]
  },
  {
   "cell_type": "code",
   "execution_count": 14,
   "id": "86836ba0",
   "metadata": {
    "execution": {
     "iopub.execute_input": "2021-12-23T03:55:46.397253Z",
     "iopub.status.busy": "2021-12-23T03:55:46.396731Z",
     "iopub.status.idle": "2021-12-23T03:55:46.405862Z",
     "shell.execute_reply": "2021-12-23T03:55:46.405460Z",
     "shell.execute_reply.started": "2021-12-23T03:55:08.942369Z"
    },
    "papermill": {
     "duration": 0.030381,
     "end_time": "2021-12-23T03:55:46.405981",
     "exception": false,
     "start_time": "2021-12-23T03:55:46.375600",
     "status": "completed"
    },
    "tags": []
   },
   "outputs": [],
   "source": [
    "solution = pd.read_csv('../input/petfinder-pawpularity-score/sample_submission.csv')"
   ]
  },
  {
   "cell_type": "code",
   "execution_count": 15,
   "id": "73ec3106",
   "metadata": {
    "execution": {
     "iopub.execute_input": "2021-12-23T03:55:46.443681Z",
     "iopub.status.busy": "2021-12-23T03:55:46.442898Z",
     "iopub.status.idle": "2021-12-23T03:55:46.451741Z",
     "shell.execute_reply": "2021-12-23T03:55:46.451274Z",
     "shell.execute_reply.started": "2021-12-23T03:55:08.965284Z"
    },
    "papermill": {
     "duration": 0.028772,
     "end_time": "2021-12-23T03:55:46.451854",
     "exception": false,
     "start_time": "2021-12-23T03:55:46.423082",
     "status": "completed"
    },
    "tags": []
   },
   "outputs": [
    {
     "data": {
      "text/html": [
       "<div>\n",
       "<style scoped>\n",
       "    .dataframe tbody tr th:only-of-type {\n",
       "        vertical-align: middle;\n",
       "    }\n",
       "\n",
       "    .dataframe tbody tr th {\n",
       "        vertical-align: top;\n",
       "    }\n",
       "\n",
       "    .dataframe thead th {\n",
       "        text-align: right;\n",
       "    }\n",
       "</style>\n",
       "<table border=\"1\" class=\"dataframe\">\n",
       "  <thead>\n",
       "    <tr style=\"text-align: right;\">\n",
       "      <th></th>\n",
       "      <th>Id</th>\n",
       "      <th>Pawpularity</th>\n",
       "    </tr>\n",
       "  </thead>\n",
       "  <tbody>\n",
       "    <tr>\n",
       "      <th>0</th>\n",
       "      <td>4128bae22183829d2b5fea10effdb0c3</td>\n",
       "      <td>67.75</td>\n",
       "    </tr>\n",
       "    <tr>\n",
       "      <th>1</th>\n",
       "      <td>43a2262d7738e3d420d453815151079e</td>\n",
       "      <td>59.15</td>\n",
       "    </tr>\n",
       "    <tr>\n",
       "      <th>2</th>\n",
       "      <td>4e429cead1848a298432a0acad014c9d</td>\n",
       "      <td>20.02</td>\n",
       "    </tr>\n",
       "    <tr>\n",
       "      <th>3</th>\n",
       "      <td>80bc3ccafcc51b66303c2c263aa38486</td>\n",
       "      <td>94.53</td>\n",
       "    </tr>\n",
       "    <tr>\n",
       "      <th>4</th>\n",
       "      <td>8f49844c382931444e68dffbe20228f4</td>\n",
       "      <td>89.82</td>\n",
       "    </tr>\n",
       "  </tbody>\n",
       "</table>\n",
       "</div>"
      ],
      "text/plain": [
       "                                 Id  Pawpularity\n",
       "0  4128bae22183829d2b5fea10effdb0c3        67.75\n",
       "1  43a2262d7738e3d420d453815151079e        59.15\n",
       "2  4e429cead1848a298432a0acad014c9d        20.02\n",
       "3  80bc3ccafcc51b66303c2c263aa38486        94.53\n",
       "4  8f49844c382931444e68dffbe20228f4        89.82"
      ]
     },
     "execution_count": 15,
     "metadata": {},
     "output_type": "execute_result"
    }
   ],
   "source": [
    "solution.head()"
   ]
  },
  {
   "cell_type": "code",
   "execution_count": 16,
   "id": "8d52dc93",
   "metadata": {
    "execution": {
     "iopub.execute_input": "2021-12-23T03:55:46.492023Z",
     "iopub.status.busy": "2021-12-23T03:55:46.491272Z",
     "iopub.status.idle": "2021-12-23T03:55:46.493168Z",
     "shell.execute_reply": "2021-12-23T03:55:46.493573Z",
     "shell.execute_reply.started": "2021-12-23T03:55:08.985745Z"
    },
    "papermill": {
     "duration": 0.022879,
     "end_time": "2021-12-23T03:55:46.493693",
     "exception": false,
     "start_time": "2021-12-23T03:55:46.470814",
     "status": "completed"
    },
    "tags": []
   },
   "outputs": [],
   "source": [
    "solution['Pawpularity'] = prediction"
   ]
  },
  {
   "cell_type": "code",
   "execution_count": 17,
   "id": "820d2671",
   "metadata": {
    "execution": {
     "iopub.execute_input": "2021-12-23T03:55:46.534925Z",
     "iopub.status.busy": "2021-12-23T03:55:46.534204Z",
     "iopub.status.idle": "2021-12-23T03:55:46.537237Z",
     "shell.execute_reply": "2021-12-23T03:55:46.537688Z",
     "shell.execute_reply.started": "2021-12-23T03:55:08.997012Z"
    },
    "papermill": {
     "duration": 0.02719,
     "end_time": "2021-12-23T03:55:46.537810",
     "exception": false,
     "start_time": "2021-12-23T03:55:46.510620",
     "status": "completed"
    },
    "tags": []
   },
   "outputs": [
    {
     "data": {
      "text/html": [
       "<div>\n",
       "<style scoped>\n",
       "    .dataframe tbody tr th:only-of-type {\n",
       "        vertical-align: middle;\n",
       "    }\n",
       "\n",
       "    .dataframe tbody tr th {\n",
       "        vertical-align: top;\n",
       "    }\n",
       "\n",
       "    .dataframe thead th {\n",
       "        text-align: right;\n",
       "    }\n",
       "</style>\n",
       "<table border=\"1\" class=\"dataframe\">\n",
       "  <thead>\n",
       "    <tr style=\"text-align: right;\">\n",
       "      <th></th>\n",
       "      <th>Id</th>\n",
       "      <th>Pawpularity</th>\n",
       "    </tr>\n",
       "  </thead>\n",
       "  <tbody>\n",
       "    <tr>\n",
       "      <th>0</th>\n",
       "      <td>4128bae22183829d2b5fea10effdb0c3</td>\n",
       "      <td>35.838595</td>\n",
       "    </tr>\n",
       "    <tr>\n",
       "      <th>1</th>\n",
       "      <td>43a2262d7738e3d420d453815151079e</td>\n",
       "      <td>35.064510</td>\n",
       "    </tr>\n",
       "    <tr>\n",
       "      <th>2</th>\n",
       "      <td>4e429cead1848a298432a0acad014c9d</td>\n",
       "      <td>38.526878</td>\n",
       "    </tr>\n",
       "    <tr>\n",
       "      <th>3</th>\n",
       "      <td>80bc3ccafcc51b66303c2c263aa38486</td>\n",
       "      <td>25.619229</td>\n",
       "    </tr>\n",
       "    <tr>\n",
       "      <th>4</th>\n",
       "      <td>8f49844c382931444e68dffbe20228f4</td>\n",
       "      <td>27.938522</td>\n",
       "    </tr>\n",
       "  </tbody>\n",
       "</table>\n",
       "</div>"
      ],
      "text/plain": [
       "                                 Id  Pawpularity\n",
       "0  4128bae22183829d2b5fea10effdb0c3    35.838595\n",
       "1  43a2262d7738e3d420d453815151079e    35.064510\n",
       "2  4e429cead1848a298432a0acad014c9d    38.526878\n",
       "3  80bc3ccafcc51b66303c2c263aa38486    25.619229\n",
       "4  8f49844c382931444e68dffbe20228f4    27.938522"
      ]
     },
     "execution_count": 17,
     "metadata": {},
     "output_type": "execute_result"
    }
   ],
   "source": [
    "solution.head()"
   ]
  },
  {
   "cell_type": "code",
   "execution_count": 18,
   "id": "946fc44a",
   "metadata": {
    "execution": {
     "iopub.execute_input": "2021-12-23T03:55:46.577948Z",
     "iopub.status.busy": "2021-12-23T03:55:46.577252Z",
     "iopub.status.idle": "2021-12-23T03:55:46.581868Z",
     "shell.execute_reply": "2021-12-23T03:55:46.582302Z",
     "shell.execute_reply.started": "2021-12-23T03:55:09.016701Z"
    },
    "papermill": {
     "duration": 0.026234,
     "end_time": "2021-12-23T03:55:46.582443",
     "exception": false,
     "start_time": "2021-12-23T03:55:46.556209",
     "status": "completed"
    },
    "tags": []
   },
   "outputs": [],
   "source": [
    "solution.to_csv('submission.csv', index=False)"
   ]
  },
  {
   "cell_type": "code",
   "execution_count": 19,
   "id": "24d6d345",
   "metadata": {
    "execution": {
     "iopub.execute_input": "2021-12-23T03:55:46.623268Z",
     "iopub.status.busy": "2021-12-23T03:55:46.622671Z",
     "iopub.status.idle": "2021-12-23T03:55:46.625458Z",
     "shell.execute_reply": "2021-12-23T03:55:46.625924Z",
     "shell.execute_reply.started": "2021-12-23T03:55:09.026103Z"
    },
    "papermill": {
     "duration": 0.026527,
     "end_time": "2021-12-23T03:55:46.626044",
     "exception": false,
     "start_time": "2021-12-23T03:55:46.599517",
     "status": "completed"
    },
    "tags": []
   },
   "outputs": [
    {
     "data": {
      "text/html": [
       "<div>\n",
       "<style scoped>\n",
       "    .dataframe tbody tr th:only-of-type {\n",
       "        vertical-align: middle;\n",
       "    }\n",
       "\n",
       "    .dataframe tbody tr th {\n",
       "        vertical-align: top;\n",
       "    }\n",
       "\n",
       "    .dataframe thead th {\n",
       "        text-align: right;\n",
       "    }\n",
       "</style>\n",
       "<table border=\"1\" class=\"dataframe\">\n",
       "  <thead>\n",
       "    <tr style=\"text-align: right;\">\n",
       "      <th></th>\n",
       "      <th>Id</th>\n",
       "      <th>Pawpularity</th>\n",
       "    </tr>\n",
       "  </thead>\n",
       "  <tbody>\n",
       "    <tr>\n",
       "      <th>0</th>\n",
       "      <td>4128bae22183829d2b5fea10effdb0c3</td>\n",
       "      <td>35.838595</td>\n",
       "    </tr>\n",
       "    <tr>\n",
       "      <th>1</th>\n",
       "      <td>43a2262d7738e3d420d453815151079e</td>\n",
       "      <td>35.064510</td>\n",
       "    </tr>\n",
       "    <tr>\n",
       "      <th>2</th>\n",
       "      <td>4e429cead1848a298432a0acad014c9d</td>\n",
       "      <td>38.526878</td>\n",
       "    </tr>\n",
       "    <tr>\n",
       "      <th>3</th>\n",
       "      <td>80bc3ccafcc51b66303c2c263aa38486</td>\n",
       "      <td>25.619229</td>\n",
       "    </tr>\n",
       "    <tr>\n",
       "      <th>4</th>\n",
       "      <td>8f49844c382931444e68dffbe20228f4</td>\n",
       "      <td>27.938522</td>\n",
       "    </tr>\n",
       "  </tbody>\n",
       "</table>\n",
       "</div>"
      ],
      "text/plain": [
       "                                 Id  Pawpularity\n",
       "0  4128bae22183829d2b5fea10effdb0c3    35.838595\n",
       "1  43a2262d7738e3d420d453815151079e    35.064510\n",
       "2  4e429cead1848a298432a0acad014c9d    38.526878\n",
       "3  80bc3ccafcc51b66303c2c263aa38486    25.619229\n",
       "4  8f49844c382931444e68dffbe20228f4    27.938522"
      ]
     },
     "execution_count": 19,
     "metadata": {},
     "output_type": "execute_result"
    }
   ],
   "source": [
    "solution.head()"
   ]
  },
  {
   "cell_type": "code",
   "execution_count": null,
   "id": "95bc69f4",
   "metadata": {
    "papermill": {
     "duration": 0.017024,
     "end_time": "2021-12-23T03:55:46.660990",
     "exception": false,
     "start_time": "2021-12-23T03:55:46.643966",
     "status": "completed"
    },
    "tags": []
   },
   "outputs": [],
   "source": []
  }
 ],
 "metadata": {
  "kernelspec": {
   "display_name": "Python 3",
   "language": "python",
   "name": "python3"
  },
  "language_info": {
   "codemirror_mode": {
    "name": "ipython",
    "version": 3
   },
   "file_extension": ".py",
   "mimetype": "text/x-python",
   "name": "python",
   "nbconvert_exporter": "python",
   "pygments_lexer": "ipython3",
   "version": "3.7.12"
  },
  "papermill": {
   "default_parameters": {},
   "duration": 23.570228,
   "end_time": "2021-12-23T03:55:47.185995",
   "environment_variables": {},
   "exception": null,
   "input_path": "__notebook__.ipynb",
   "output_path": "__notebook__.ipynb",
   "parameters": {},
   "start_time": "2021-12-23T03:55:23.615767",
   "version": "2.3.3"
  }
 },
 "nbformat": 4,
 "nbformat_minor": 5
}
